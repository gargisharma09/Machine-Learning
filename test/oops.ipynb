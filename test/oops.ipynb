{
 "cells": [
  {
   "cell_type": "code",
   "execution_count": null,
   "id": "062c1234",
   "metadata": {},
   "outputs": [
    {
     "ename": "NameError",
     "evalue": "name 'Bike' is not defined",
     "output_type": "error",
     "traceback": [
      "\u001b[1;31m---------------------------------------------------------------------------\u001b[0m",
      "\u001b[1;31mNameError\u001b[0m                                 Traceback (most recent call last)",
      "Cell \u001b[1;32mIn[4], line 3\u001b[0m\n\u001b[0;32m      1\u001b[0m \u001b[38;5;28;01mclass\u001b[39;00m\u001b[38;5;250m \u001b[39m\u001b[38;5;21;01mVehicle\u001b[39;00m:\n\u001b[0;32m      2\u001b[0m     \u001b[38;5;28;01mpass\u001b[39;00m\n\u001b[1;32m----> 3\u001b[0m \u001b[38;5;28;43;01mclass\u001b[39;49;00m\u001b[38;5;250;43m \u001b[39;49m\u001b[38;5;21;43;01mBike\u001b[39;49;00m\u001b[43m:\u001b[49m\n\u001b[0;32m      4\u001b[0m \u001b[43m    \u001b[49m\u001b[43mname\u001b[49m\u001b[38;5;241;43m=\u001b[39;49m\u001b[38;5;124;43m\"\u001b[39;49m\u001b[38;5;124;43m\"\u001b[39;49m\n\u001b[0;32m      5\u001b[0m \u001b[43m    \u001b[49m\u001b[43mgear\u001b[49m\u001b[38;5;241;43m=\u001b[39;49m\u001b[38;5;241;43m0\u001b[39;49m\n",
      "Cell \u001b[1;32mIn[4], line 7\u001b[0m, in \u001b[0;36mBike\u001b[1;34m()\u001b[0m\n\u001b[0;32m      4\u001b[0m name\u001b[38;5;241m=\u001b[39m\u001b[38;5;124m\"\u001b[39m\u001b[38;5;124m\"\u001b[39m\n\u001b[0;32m      5\u001b[0m gear\u001b[38;5;241m=\u001b[39m\u001b[38;5;241m0\u001b[39m\n\u001b[1;32m----> 7\u001b[0m bike1\u001b[38;5;241m=\u001b[39m \u001b[43mBike\u001b[49m()\n\u001b[0;32m      9\u001b[0m bike1\u001b[38;5;241m.\u001b[39mname\u001b[38;5;241m=\u001b[39m\u001b[38;5;124m\"\u001b[39m\u001b[38;5;124mYamaha\u001b[39m\u001b[38;5;124m\"\u001b[39m\n\u001b[0;32m     10\u001b[0m \u001b[38;5;28mprint\u001b[39m(bike1\u001b[38;5;241m.\u001b[39mname)\n",
      "\u001b[1;31mNameError\u001b[0m: name 'Bike' is not defined"
     ]
    }
   ],
   "source": []
  },
  {
   "cell_type": "code",
   "execution_count": 5,
   "id": "c8f3f8e4",
   "metadata": {},
   "outputs": [
    {
     "name": "stdout",
     "output_type": "stream",
     "text": [
      "Splendor\n",
      "4\n",
      "714   5\n",
      "The name of employee isSahib , age is 19, employee_id is 69 and has annual package of 10000000 lpa\n"
     ]
    }
   ],
   "source": [
    "class Vehicle:\n",
    "    pass\n",
    "class bike:\n",
    "    name=\"\"\n",
    "    gear=0\n",
    "\n",
    "bike1= bike()\n",
    "bike1.name=\"Splendor\"\n",
    "bike1.gear=4\n",
    "print(bike1.name)\n",
    "print(bike1.gear)\n",
    "\n",
    "\n",
    "class Hostel:\n",
    "    room=0\n",
    "    person=0\n",
    "\n",
    "lpu = Hostel()\n",
    "lpu.room = 714\n",
    "lpu.person=5\n",
    "\n",
    "print(lpu.room,\" \" , lpu.person)\n",
    "\n",
    "\n",
    "class Employee:\n",
    "    name= \"\"\n",
    "    age=0\n",
    "    salary=0\n",
    "    Employee_id=0\n",
    "\n",
    "e1=Employee()\n",
    "e1.name=\"Sahib\"\n",
    "e1.age=19\n",
    "e1.Employee_id=69\n",
    "e1.salary=10000000\n",
    "\n",
    "print(f\"The name of employee is{e1.name} , age is {e1.age}, employee_id is {e1.Employee_id} and has annual package of {e1.salary} lpa\")"
   ]
  },
  {
   "cell_type": "code",
   "execution_count": null,
   "id": "3c7b6d1f",
   "metadata": {},
   "outputs": [],
   "source": []
  }
 ],
 "metadata": {
  "kernelspec": {
   "display_name": "Python 3",
   "language": "python",
   "name": "python3"
  },
  "language_info": {
   "codemirror_mode": {
    "name": "ipython",
    "version": 3
   },
   "file_extension": ".py",
   "mimetype": "text/x-python",
   "name": "python",
   "nbconvert_exporter": "python",
   "pygments_lexer": "ipython3",
   "version": "3.13.5"
  }
 },
 "nbformat": 4,
 "nbformat_minor": 5
}
