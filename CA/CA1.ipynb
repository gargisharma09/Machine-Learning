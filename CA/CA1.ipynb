{
 "cells": [
  {
   "cell_type": "markdown",
   "metadata": {},
   "source": [
    "## **Gargi Sharma 12403355 CA-1 Machine Learning**\n"
   ]
  },
  {
   "cell_type": "markdown",
   "metadata": {},
   "source": [
    "### **1**"
   ]
  },
  {
   "cell_type": "code",
   "execution_count": 23,
   "metadata": {},
   "outputs": [
    {
     "name": "stdout",
     "output_type": "stream",
     "text": [
      "{'A': ['Alice', 'Charlie', 'Alice', 'Charlie', 'Alice', 'Charlie'], 'B': ['Bob', 'Eve', 'Bob', 'Eve', 'Bob', 'Eve'], 'C': ['David', 'David', 'David']}\n"
     ]
    }
   ],
   "source": [
    "grades = {'Alice': 'A', 'Bob': 'B', 'Charlie': 'A', 'David': 'C', 'Eve': 'B'}\n",
    "for student, grade in grades.items():\n",
    "    reversed_grades[grade].append(student)\n",
    "print(dict(reversed_grades))\n"
   ]
  },
  {
   "cell_type": "code",
   "execution_count": null,
   "metadata": {},
   "outputs": [
    {
     "name": "stdout",
     "output_type": "stream",
     "text": [
      "{'C': ['David'], 'B': ['Bob', 'Eve'], 'A': ['Alice', 'Charlie']}\n"
     ]
    }
   ],
   "source": [
    "\n",
    "grades = {'Alice': 'A', 'Bob': 'B', 'Charlie': 'A', 'David': 'C', 'Eve': 'B'}\n",
    "reversed_grades = {grade: [student for student in \n",
    "        grades if grades[student] == grade] for grade in set(grades.values())}\n",
    "\n",
    "print(reversed_grades)\n",
    "\n"
   ]
  },
  {
   "cell_type": "markdown",
   "metadata": {},
   "source": [
    "### **2**"
   ]
  },
  {
   "cell_type": "code",
   "execution_count": 24,
   "metadata": {},
   "outputs": [
    {
     "name": "stdout",
     "output_type": "stream",
     "text": [
      "{2: 4, 4: 16, 6: 36, 8: 64, 10: 100, 12: 144, 14: 196, 16: 256, 18: 324, 20: 400}\n"
     ]
    }
   ],
   "source": [
    "squares = {num: num**2 for num in range(1, 21) if num % 2 == 0}\n",
    "print(squares)\n"
   ]
  },
  {
   "cell_type": "markdown",
   "metadata": {},
   "source": [
    "### **3**"
   ]
  },
  {
   "cell_type": "code",
   "execution_count": 29,
   "metadata": {},
   "outputs": [
    {
     "name": "stdout",
     "output_type": "stream",
     "text": [
      "False\n",
      "True\n"
     ]
    }
   ],
   "source": [
    "is_palindrome = lambda s: s == s[::-1]\n",
    "print(is_palindrome(\"gargi\"))  \n",
    "print(is_palindrome(\"oho\")) \n"
   ]
  },
  {
   "cell_type": "markdown",
   "metadata": {},
   "source": [
    "## **4**"
   ]
  },
  {
   "cell_type": "code",
   "execution_count": 32,
   "metadata": {},
   "outputs": [
    {
     "name": "stdout",
     "output_type": "stream",
     "text": [
      "Even\n",
      "Odd\n"
     ]
    }
   ],
   "source": [
    "even_or_odd = lambda num: \"Even\" if num % 2 == 0 else \"Odd\"\n",
    "print(even_or_odd(10))  \n",
    "print(even_or_odd(7))   \n"
   ]
  },
  {
   "cell_type": "markdown",
   "metadata": {},
   "source": [
    "### **5**"
   ]
  },
  {
   "cell_type": "code",
   "execution_count": 35,
   "metadata": {},
   "outputs": [
    {
     "name": "stdout",
     "output_type": "stream",
     "text": [
      "Gargi\n",
      "java\n"
     ]
    }
   ],
   "source": [
    "longer_string = lambda s1, s2: s1 if len(s1)>len(s2) else (s2 if len(s2) > len(s1) else \"Equal\")\n",
    "print(longer_string(\"Gargi\", \"mahi\"))  \n",
    "print(longer_string(\"c\", \"java\"))   \n",
    " \n"
   ]
  },
  {
   "cell_type": "code",
   "execution_count": 33,
   "metadata": {},
   "outputs": [
    {
     "name": "stdout",
     "output_type": "stream",
     "text": [
      "Over budget! You spent $3100, which is $100 over the budget.\n"
     ]
    }
   ],
   "source": [
    "expenses = [1200, 300, 150, 500, 750, 200]\n",
    "budget = 3000\n",
    "total_spent = 0\n",
    "for expense in expenses:\n",
    "    total_spent += expense\n",
    "\n",
    "if total_spent > budget:\n",
    "    print(f\"Over budget! You spent ${total_spent}, which is ${total_spent - budget} over the budget.\")\n",
    "else:\n",
    "    print(f\"Within budget! You spent ${total_spent}, which is ${budget - total_spent} under the budget.\")\n"
   ]
  }
 ],
 "metadata": {
  "kernelspec": {
   "display_name": "Python 3",
   "language": "python",
   "name": "python3"
  },
  "language_info": {
   "codemirror_mode": {
    "name": "ipython",
    "version": 3
   },
   "file_extension": ".py",
   "mimetype": "text/x-python",
   "name": "python",
   "nbconvert_exporter": "python",
   "pygments_lexer": "ipython3",
   "version": "3.13.1"
  }
 },
 "nbformat": 4,
 "nbformat_minor": 2
}
