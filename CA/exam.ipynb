{
 "cells": [
  {
   "cell_type": "markdown",
   "id": "c43489c2",
   "metadata": {},
   "source": [
    "### **GARGI SHARMA 12403355**\n",
    "### **CAB 113 Machine Learning\"**"
   ]
  },
  {
   "cell_type": "code",
   "execution_count": 99,
   "id": "a99e3b63",
   "metadata": {},
   "outputs": [],
   "source": [
    "import pandas as pd \n",
    "import warnings\n",
    "warnings.filterwarnings('ignore')\n",
    "pd.set_option('display.max_columns',None)"
   ]
  },
  {
   "cell_type": "code",
   "execution_count": 100,
   "id": "89ec7753",
   "metadata": {},
   "outputs": [],
   "source": [
    "data = pd.read_excel('dataset_EBA.xlsx')"
   ]
  },
  {
   "cell_type": "code",
   "execution_count": 101,
   "id": "eb4e355d",
   "metadata": {},
   "outputs": [
    {
     "data": {
      "text/html": [
       "<div>\n",
       "<style scoped>\n",
       "    .dataframe tbody tr th:only-of-type {\n",
       "        vertical-align: middle;\n",
       "    }\n",
       "\n",
       "    .dataframe tbody tr th {\n",
       "        vertical-align: top;\n",
       "    }\n",
       "\n",
       "    .dataframe thead th {\n",
       "        text-align: right;\n",
       "    }\n",
       "</style>\n",
       "<table border=\"1\" class=\"dataframe\">\n",
       "  <thead>\n",
       "    <tr style=\"text-align: right;\">\n",
       "      <th></th>\n",
       "      <th>Unnamed: 0</th>\n",
       "      <th>year</th>\n",
       "      <th>gender</th>\n",
       "      <th>age</th>\n",
       "      <th>location</th>\n",
       "      <th>race:AfricanAmerican</th>\n",
       "      <th>race:Asian</th>\n",
       "      <th>race:Caucasian</th>\n",
       "      <th>race:Hispanic</th>\n",
       "      <th>race:Other</th>\n",
       "      <th>hypertension</th>\n",
       "      <th>heart_disease</th>\n",
       "      <th>smoking_history</th>\n",
       "      <th>bmi</th>\n",
       "      <th>hbA1c_level</th>\n",
       "      <th>blood_glucose_level</th>\n",
       "      <th>diabetes</th>\n",
       "      <th>clinical_notes</th>\n",
       "    </tr>\n",
       "  </thead>\n",
       "  <tbody>\n",
       "    <tr>\n",
       "      <th>0</th>\n",
       "      <td>0</td>\n",
       "      <td>2020.0</td>\n",
       "      <td>Female</td>\n",
       "      <td>32.0</td>\n",
       "      <td>Alabama</td>\n",
       "      <td>False</td>\n",
       "      <td>False</td>\n",
       "      <td>False</td>\n",
       "      <td>False</td>\n",
       "      <td>True</td>\n",
       "      <td>False</td>\n",
       "      <td>False</td>\n",
       "      <td>never</td>\n",
       "      <td>27.32</td>\n",
       "      <td>5.0</td>\n",
       "      <td>100.0</td>\n",
       "      <td>0.0</td>\n",
       "      <td>Overweight, advised dietary and exercise modif...</td>\n",
       "    </tr>\n",
       "    <tr>\n",
       "      <th>1</th>\n",
       "      <td>1</td>\n",
       "      <td>2015.0</td>\n",
       "      <td>Female</td>\n",
       "      <td>29.0</td>\n",
       "      <td>Alabama</td>\n",
       "      <td>False</td>\n",
       "      <td>True</td>\n",
       "      <td>False</td>\n",
       "      <td>False</td>\n",
       "      <td>False</td>\n",
       "      <td>False</td>\n",
       "      <td>False</td>\n",
       "      <td>never</td>\n",
       "      <td>19.95</td>\n",
       "      <td>5.0</td>\n",
       "      <td>90.0</td>\n",
       "      <td>1.0</td>\n",
       "      <td>Healthy BMI range.</td>\n",
       "    </tr>\n",
       "    <tr>\n",
       "      <th>2</th>\n",
       "      <td>2</td>\n",
       "      <td>2015.0</td>\n",
       "      <td>Male</td>\n",
       "      <td>18.0</td>\n",
       "      <td>Alabama</td>\n",
       "      <td>False</td>\n",
       "      <td>False</td>\n",
       "      <td>False</td>\n",
       "      <td>False</td>\n",
       "      <td>True</td>\n",
       "      <td>False</td>\n",
       "      <td>False</td>\n",
       "      <td>never</td>\n",
       "      <td>23.76</td>\n",
       "      <td>4.8</td>\n",
       "      <td>160.0</td>\n",
       "      <td>1.0</td>\n",
       "      <td>Young patient, generally lower risk but needs ...</td>\n",
       "    </tr>\n",
       "    <tr>\n",
       "      <th>3</th>\n",
       "      <td>3</td>\n",
       "      <td>2015.0</td>\n",
       "      <td>Male</td>\n",
       "      <td>41.0</td>\n",
       "      <td>Alabama</td>\n",
       "      <td>False</td>\n",
       "      <td>False</td>\n",
       "      <td>True</td>\n",
       "      <td>False</td>\n",
       "      <td>False</td>\n",
       "      <td>False</td>\n",
       "      <td>False</td>\n",
       "      <td>never</td>\n",
       "      <td>27.32</td>\n",
       "      <td>4.0</td>\n",
       "      <td>159.0</td>\n",
       "      <td>1.0</td>\n",
       "      <td>Overweight, advised dietary and exercise modif...</td>\n",
       "    </tr>\n",
       "    <tr>\n",
       "      <th>4</th>\n",
       "      <td>4</td>\n",
       "      <td>2016.0</td>\n",
       "      <td>Female</td>\n",
       "      <td>52.0</td>\n",
       "      <td>Alabama</td>\n",
       "      <td>True</td>\n",
       "      <td>False</td>\n",
       "      <td>False</td>\n",
       "      <td>False</td>\n",
       "      <td>False</td>\n",
       "      <td>False</td>\n",
       "      <td>False</td>\n",
       "      <td>never</td>\n",
       "      <td>23.75</td>\n",
       "      <td>6.5</td>\n",
       "      <td>90.0</td>\n",
       "      <td>0.0</td>\n",
       "      <td>Healthy BMI range. High HbA1c level, indicativ...</td>\n",
       "    </tr>\n",
       "  </tbody>\n",
       "</table>\n",
       "</div>"
      ],
      "text/plain": [
       "   Unnamed: 0    year  gender   age location  race:AfricanAmerican  \\\n",
       "0           0  2020.0  Female  32.0  Alabama                 False   \n",
       "1           1  2015.0  Female  29.0  Alabama                 False   \n",
       "2           2  2015.0    Male  18.0  Alabama                 False   \n",
       "3           3  2015.0    Male  41.0  Alabama                 False   \n",
       "4           4  2016.0  Female  52.0  Alabama                  True   \n",
       "\n",
       "   race:Asian  race:Caucasian  race:Hispanic  race:Other  hypertension  \\\n",
       "0       False           False          False        True         False   \n",
       "1        True           False          False       False         False   \n",
       "2       False           False          False        True         False   \n",
       "3       False            True          False       False         False   \n",
       "4       False           False          False       False         False   \n",
       "\n",
       "   heart_disease smoking_history    bmi  hbA1c_level  blood_glucose_level  \\\n",
       "0          False           never  27.32          5.0                100.0   \n",
       "1          False           never  19.95          5.0                 90.0   \n",
       "2          False           never  23.76          4.8                160.0   \n",
       "3          False           never  27.32          4.0                159.0   \n",
       "4          False           never  23.75          6.5                 90.0   \n",
       "\n",
       "   diabetes                                     clinical_notes  \n",
       "0       0.0  Overweight, advised dietary and exercise modif...  \n",
       "1       1.0                                 Healthy BMI range.  \n",
       "2       1.0  Young patient, generally lower risk but needs ...  \n",
       "3       1.0  Overweight, advised dietary and exercise modif...  \n",
       "4       0.0  Healthy BMI range. High HbA1c level, indicativ...  "
      ]
     },
     "execution_count": 101,
     "metadata": {},
     "output_type": "execute_result"
    }
   ],
   "source": [
    "data.head()"
   ]
  },
  {
   "cell_type": "code",
   "execution_count": 102,
   "id": "b3e26f2f",
   "metadata": {},
   "outputs": [
    {
     "data": {
      "text/plain": [
       "Unnamed: 0                int64\n",
       "year                    float64\n",
       "gender                   object\n",
       "age                     float64\n",
       "location                 object\n",
       "race:AfricanAmerican       bool\n",
       "race:Asian                 bool\n",
       "race:Caucasian             bool\n",
       "race:Hispanic              bool\n",
       "race:Other                 bool\n",
       "hypertension               bool\n",
       "heart_disease              bool\n",
       "smoking_history          object\n",
       "bmi                     float64\n",
       "hbA1c_level             float64\n",
       "blood_glucose_level     float64\n",
       "diabetes                float64\n",
       "clinical_notes           object\n",
       "dtype: object"
      ]
     },
     "execution_count": 102,
     "metadata": {},
     "output_type": "execute_result"
    }
   ],
   "source": [
    "data.dtypes"
   ]
  },
  {
   "cell_type": "code",
   "execution_count": 103,
   "id": "0ae2d4e8",
   "metadata": {},
   "outputs": [
    {
     "data": {
      "text/plain": [
       "Unnamed: 0                0\n",
       "year                     20\n",
       "gender                   39\n",
       "age                     294\n",
       "location                360\n",
       "race:AfricanAmerican      0\n",
       "race:Asian                0\n",
       "race:Caucasian            0\n",
       "race:Hispanic             0\n",
       "race:Other                0\n",
       "hypertension              0\n",
       "heart_disease             0\n",
       "smoking_history         418\n",
       "bmi                     418\n",
       "hbA1c_level             419\n",
       "blood_glucose_level     418\n",
       "diabetes                418\n",
       "clinical_notes          418\n",
       "dtype: int64"
      ]
     },
     "execution_count": 103,
     "metadata": {},
     "output_type": "execute_result"
    }
   ],
   "source": [
    "data.isnull().sum()"
   ]
  },
  {
   "cell_type": "code",
   "execution_count": 104,
   "id": "db2ab9f6",
   "metadata": {},
   "outputs": [],
   "source": [
    "data.dropna(how = 'any',inplace=True)"
   ]
  },
  {
   "cell_type": "code",
   "execution_count": 105,
   "id": "39ea6ec4",
   "metadata": {},
   "outputs": [],
   "source": [
    "#for col in data.select_dtypes(include='number').columns:\n",
    "    #data[col].fillna(data[col].mode()[0], inplace=True)"
   ]
  },
  {
   "cell_type": "code",
   "execution_count": 106,
   "id": "6205249d",
   "metadata": {},
   "outputs": [
    {
     "data": {
      "text/plain": [
       "Unnamed: 0              0\n",
       "year                    0\n",
       "gender                  0\n",
       "age                     0\n",
       "location                0\n",
       "race:AfricanAmerican    0\n",
       "race:Asian              0\n",
       "race:Caucasian          0\n",
       "race:Hispanic           0\n",
       "race:Other              0\n",
       "hypertension            0\n",
       "heart_disease           0\n",
       "smoking_history         0\n",
       "bmi                     0\n",
       "hbA1c_level             0\n",
       "blood_glucose_level     0\n",
       "diabetes                0\n",
       "clinical_notes          0\n",
       "dtype: int64"
      ]
     },
     "execution_count": 106,
     "metadata": {},
     "output_type": "execute_result"
    }
   ],
   "source": [
    "data.isnull().sum()"
   ]
  },
  {
   "cell_type": "code",
   "execution_count": 107,
   "id": "dddf0c35",
   "metadata": {},
   "outputs": [
    {
     "data": {
      "text/plain": [
       "Unnamed: 0                int64\n",
       "year                    float64\n",
       "gender                   object\n",
       "age                     float64\n",
       "location                 object\n",
       "race:AfricanAmerican       bool\n",
       "race:Asian                 bool\n",
       "race:Caucasian             bool\n",
       "race:Hispanic              bool\n",
       "race:Other                 bool\n",
       "hypertension               bool\n",
       "heart_disease              bool\n",
       "smoking_history          object\n",
       "bmi                     float64\n",
       "hbA1c_level             float64\n",
       "blood_glucose_level     float64\n",
       "diabetes                float64\n",
       "clinical_notes           object\n",
       "dtype: object"
      ]
     },
     "execution_count": 107,
     "metadata": {},
     "output_type": "execute_result"
    }
   ],
   "source": [
    "data.dtypes"
   ]
  },
  {
   "cell_type": "code",
   "execution_count": 108,
   "id": "ed6eccfa",
   "metadata": {},
   "outputs": [],
   "source": [
    "data['hbA1c_level'] = data['hbA1c_level'].astype(int)"
   ]
  },
  {
   "cell_type": "code",
   "execution_count": 109,
   "id": "751384c7",
   "metadata": {},
   "outputs": [
    {
     "data": {
      "text/plain": [
       "Unnamed: 0                int64\n",
       "year                    float64\n",
       "gender                   object\n",
       "age                     float64\n",
       "location                 object\n",
       "race:AfricanAmerican       bool\n",
       "race:Asian                 bool\n",
       "race:Caucasian             bool\n",
       "race:Hispanic              bool\n",
       "race:Other                 bool\n",
       "hypertension               bool\n",
       "heart_disease              bool\n",
       "smoking_history          object\n",
       "bmi                     float64\n",
       "hbA1c_level               int64\n",
       "blood_glucose_level     float64\n",
       "diabetes                float64\n",
       "clinical_notes           object\n",
       "dtype: object"
      ]
     },
     "execution_count": 109,
     "metadata": {},
     "output_type": "execute_result"
    }
   ],
   "source": [
    "data.dtypes"
   ]
  },
  {
   "cell_type": "code",
   "execution_count": 110,
   "id": "608117dc",
   "metadata": {},
   "outputs": [
    {
     "data": {
      "text/plain": [
       "0        False\n",
       "1        False\n",
       "2        False\n",
       "3        False\n",
       "4        False\n",
       "         ...  \n",
       "99995    False\n",
       "99996    False\n",
       "99997    False\n",
       "99998    False\n",
       "99999    False\n",
       "Length: 99580, dtype: bool"
      ]
     },
     "execution_count": 110,
     "metadata": {},
     "output_type": "execute_result"
    }
   ],
   "source": [
    "data.duplicated()"
   ]
  },
  {
   "cell_type": "code",
   "execution_count": 111,
   "id": "0966a28c",
   "metadata": {},
   "outputs": [
    {
     "data": {
      "text/plain": [
       "smoking_history\n",
       "No Info        35668\n",
       "never          34941\n",
       "former          9314\n",
       "current         9254\n",
       "not current     6417\n",
       "ever            3986\n",
       "Name: count, dtype: int64"
      ]
     },
     "execution_count": 111,
     "metadata": {},
     "output_type": "execute_result"
    }
   ],
   "source": [
    "data['smoking_history'].value_counts()"
   ]
  },
  {
   "cell_type": "code",
   "execution_count": 112,
   "id": "72029211",
   "metadata": {},
   "outputs": [
    {
     "data": {
      "text/plain": [
       "gender\n",
       "Female    58315\n",
       "Male      41247\n",
       "Other        18\n",
       "Name: count, dtype: int64"
      ]
     },
     "execution_count": 112,
     "metadata": {},
     "output_type": "execute_result"
    }
   ],
   "source": [
    "data['gender'].value_counts()"
   ]
  },
  {
   "cell_type": "code",
   "execution_count": 113,
   "id": "70236313",
   "metadata": {},
   "outputs": [
    {
     "data": {
      "text/plain": [
       "race:AfricanAmerican\n",
       "False    79455\n",
       "True     20125\n",
       "Name: count, dtype: int64"
      ]
     },
     "execution_count": 113,
     "metadata": {},
     "output_type": "execute_result"
    }
   ],
   "source": [
    "data['race:AfricanAmerican'].value_counts()"
   ]
  },
  {
   "cell_type": "code",
   "execution_count": 114,
   "id": "1341a9ee",
   "metadata": {},
   "outputs": [
    {
     "data": {
      "text/plain": [
       "race:Asian\n",
       "False    79649\n",
       "True     19931\n",
       "Name: count, dtype: int64"
      ]
     },
     "execution_count": 114,
     "metadata": {},
     "output_type": "execute_result"
    }
   ],
   "source": [
    "data['race:Asian'].value_counts()"
   ]
  },
  {
   "cell_type": "code",
   "execution_count": 115,
   "id": "3b85c424",
   "metadata": {},
   "outputs": [
    {
     "data": {
      "text/plain": [
       "race:Caucasian\n",
       "False    79781\n",
       "True     19799\n",
       "Name: count, dtype: int64"
      ]
     },
     "execution_count": 115,
     "metadata": {},
     "output_type": "execute_result"
    }
   ],
   "source": [
    "data['race:Caucasian'].value_counts()"
   ]
  },
  {
   "cell_type": "code",
   "execution_count": 116,
   "id": "61c27931",
   "metadata": {},
   "outputs": [
    {
     "data": {
      "text/plain": [
       "race:Hispanic\n",
       "False    79764\n",
       "True     19816\n",
       "Name: count, dtype: int64"
      ]
     },
     "execution_count": 116,
     "metadata": {},
     "output_type": "execute_result"
    }
   ],
   "source": [
    "data['race:Hispanic'].value_counts()"
   ]
  },
  {
   "cell_type": "code",
   "execution_count": 117,
   "id": "2c1bb040",
   "metadata": {},
   "outputs": [
    {
     "data": {
      "text/plain": [
       "race:Other\n",
       "False    79671\n",
       "True     19909\n",
       "Name: count, dtype: int64"
      ]
     },
     "execution_count": 117,
     "metadata": {},
     "output_type": "execute_result"
    }
   ],
   "source": [
    "data['race:Other'].value_counts()"
   ]
  },
  {
   "cell_type": "code",
   "execution_count": 118,
   "id": "228665ff",
   "metadata": {},
   "outputs": [
    {
     "data": {
      "text/plain": [
       "hypertension\n",
       "False    92132\n",
       "True      7448\n",
       "Name: count, dtype: int64"
      ]
     },
     "execution_count": 118,
     "metadata": {},
     "output_type": "execute_result"
    }
   ],
   "source": [
    "data['hypertension'].value_counts()"
   ]
  },
  {
   "cell_type": "code",
   "execution_count": 119,
   "id": "e407f537",
   "metadata": {},
   "outputs": [
    {
     "data": {
      "text/plain": [
       "heart_disease\n",
       "False    95656\n",
       "True      3924\n",
       "Name: count, dtype: int64"
      ]
     },
     "execution_count": 119,
     "metadata": {},
     "output_type": "execute_result"
    }
   ],
   "source": [
    "data['heart_disease'].value_counts()"
   ]
  },
  {
   "cell_type": "code",
   "execution_count": 120,
   "id": "96672a14",
   "metadata": {},
   "outputs": [],
   "source": [
    "from sklearn.preprocessing import LabelEncoder"
   ]
  },
  {
   "cell_type": "code",
   "execution_count": 121,
   "id": "f8037097",
   "metadata": {},
   "outputs": [],
   "source": [
    "label = LabelEncoder()"
   ]
  },
  {
   "cell_type": "code",
   "execution_count": 122,
   "id": "cc43bee2",
   "metadata": {},
   "outputs": [],
   "source": [
    "data['gender'] = label.fit_transform(data['gender'])"
   ]
  },
  {
   "cell_type": "code",
   "execution_count": 123,
   "id": "9a7b343a",
   "metadata": {},
   "outputs": [],
   "source": [
    "data['location'] = label.fit_transform(data['location'])"
   ]
  },
  {
   "cell_type": "code",
   "execution_count": 124,
   "id": "6adf2b91",
   "metadata": {},
   "outputs": [],
   "source": [
    "data['gender'] = label.fit_transform(data['gender'])"
   ]
  },
  {
   "cell_type": "code",
   "execution_count": 125,
   "id": "927e8ac0",
   "metadata": {},
   "outputs": [],
   "source": [
    "data['race:AfricanAmerican'] = label.fit_transform(data['race:AfricanAmerican'])"
   ]
  },
  {
   "cell_type": "code",
   "execution_count": 126,
   "id": "67b0e8b3",
   "metadata": {},
   "outputs": [],
   "source": [
    "data['race:Asian'] = label.fit_transform(data['race:Asian'])"
   ]
  },
  {
   "cell_type": "code",
   "execution_count": 127,
   "id": "bfc94c22",
   "metadata": {},
   "outputs": [],
   "source": [
    "data['race:Caucasian'] = label.fit_transform(data['race:Caucasian'])"
   ]
  },
  {
   "cell_type": "code",
   "execution_count": 128,
   "id": "f83264eb",
   "metadata": {},
   "outputs": [],
   "source": [
    "data['race:Hispanic'] = label.fit_transform(data['race:Hispanic'])"
   ]
  },
  {
   "cell_type": "code",
   "execution_count": 129,
   "id": "40147866",
   "metadata": {},
   "outputs": [],
   "source": [
    "data['race:Other'] = label.fit_transform(data['race:Other'])"
   ]
  },
  {
   "cell_type": "code",
   "execution_count": 130,
   "id": "ca59c1bc",
   "metadata": {},
   "outputs": [],
   "source": [
    "data['hypertension'] = label.fit_transform(data['hypertension'])"
   ]
  },
  {
   "cell_type": "code",
   "execution_count": 131,
   "id": "73fa583b",
   "metadata": {},
   "outputs": [],
   "source": [
    "data['heart_disease'] = label.fit_transform(data['heart_disease'])"
   ]
  },
  {
   "cell_type": "code",
   "execution_count": 132,
   "id": "f96871e6",
   "metadata": {},
   "outputs": [],
   "source": [
    "data['smoking_history'] = label.fit_transform(data['smoking_history'])"
   ]
  },
  {
   "cell_type": "code",
   "execution_count": 133,
   "id": "4eab1175",
   "metadata": {},
   "outputs": [
    {
     "data": {
      "text/html": [
       "<div>\n",
       "<style scoped>\n",
       "    .dataframe tbody tr th:only-of-type {\n",
       "        vertical-align: middle;\n",
       "    }\n",
       "\n",
       "    .dataframe tbody tr th {\n",
       "        vertical-align: top;\n",
       "    }\n",
       "\n",
       "    .dataframe thead th {\n",
       "        text-align: right;\n",
       "    }\n",
       "</style>\n",
       "<table border=\"1\" class=\"dataframe\">\n",
       "  <thead>\n",
       "    <tr style=\"text-align: right;\">\n",
       "      <th></th>\n",
       "      <th>Unnamed: 0</th>\n",
       "      <th>year</th>\n",
       "      <th>gender</th>\n",
       "      <th>age</th>\n",
       "      <th>location</th>\n",
       "      <th>race:AfricanAmerican</th>\n",
       "      <th>race:Asian</th>\n",
       "      <th>race:Caucasian</th>\n",
       "      <th>race:Hispanic</th>\n",
       "      <th>race:Other</th>\n",
       "      <th>hypertension</th>\n",
       "      <th>heart_disease</th>\n",
       "      <th>smoking_history</th>\n",
       "      <th>bmi</th>\n",
       "      <th>hbA1c_level</th>\n",
       "      <th>blood_glucose_level</th>\n",
       "      <th>diabetes</th>\n",
       "      <th>clinical_notes</th>\n",
       "    </tr>\n",
       "  </thead>\n",
       "  <tbody>\n",
       "    <tr>\n",
       "      <th>0</th>\n",
       "      <td>0</td>\n",
       "      <td>2020.0</td>\n",
       "      <td>0</td>\n",
       "      <td>32.0</td>\n",
       "      <td>0</td>\n",
       "      <td>0</td>\n",
       "      <td>0</td>\n",
       "      <td>0</td>\n",
       "      <td>0</td>\n",
       "      <td>1</td>\n",
       "      <td>0</td>\n",
       "      <td>0</td>\n",
       "      <td>4</td>\n",
       "      <td>27.32</td>\n",
       "      <td>5</td>\n",
       "      <td>100.0</td>\n",
       "      <td>0.0</td>\n",
       "      <td>Overweight, advised dietary and exercise modif...</td>\n",
       "    </tr>\n",
       "    <tr>\n",
       "      <th>1</th>\n",
       "      <td>1</td>\n",
       "      <td>2015.0</td>\n",
       "      <td>0</td>\n",
       "      <td>29.0</td>\n",
       "      <td>0</td>\n",
       "      <td>0</td>\n",
       "      <td>1</td>\n",
       "      <td>0</td>\n",
       "      <td>0</td>\n",
       "      <td>0</td>\n",
       "      <td>0</td>\n",
       "      <td>0</td>\n",
       "      <td>4</td>\n",
       "      <td>19.95</td>\n",
       "      <td>5</td>\n",
       "      <td>90.0</td>\n",
       "      <td>1.0</td>\n",
       "      <td>Healthy BMI range.</td>\n",
       "    </tr>\n",
       "    <tr>\n",
       "      <th>2</th>\n",
       "      <td>2</td>\n",
       "      <td>2015.0</td>\n",
       "      <td>1</td>\n",
       "      <td>18.0</td>\n",
       "      <td>0</td>\n",
       "      <td>0</td>\n",
       "      <td>0</td>\n",
       "      <td>0</td>\n",
       "      <td>0</td>\n",
       "      <td>1</td>\n",
       "      <td>0</td>\n",
       "      <td>0</td>\n",
       "      <td>4</td>\n",
       "      <td>23.76</td>\n",
       "      <td>4</td>\n",
       "      <td>160.0</td>\n",
       "      <td>1.0</td>\n",
       "      <td>Young patient, generally lower risk but needs ...</td>\n",
       "    </tr>\n",
       "  </tbody>\n",
       "</table>\n",
       "</div>"
      ],
      "text/plain": [
       "   Unnamed: 0    year  gender   age  location  race:AfricanAmerican  \\\n",
       "0           0  2020.0       0  32.0         0                     0   \n",
       "1           1  2015.0       0  29.0         0                     0   \n",
       "2           2  2015.0       1  18.0         0                     0   \n",
       "\n",
       "   race:Asian  race:Caucasian  race:Hispanic  race:Other  hypertension  \\\n",
       "0           0               0              0           1             0   \n",
       "1           1               0              0           0             0   \n",
       "2           0               0              0           1             0   \n",
       "\n",
       "   heart_disease  smoking_history    bmi  hbA1c_level  blood_glucose_level  \\\n",
       "0              0                4  27.32            5                100.0   \n",
       "1              0                4  19.95            5                 90.0   \n",
       "2              0                4  23.76            4                160.0   \n",
       "\n",
       "   diabetes                                     clinical_notes  \n",
       "0       0.0  Overweight, advised dietary and exercise modif...  \n",
       "1       1.0                                 Healthy BMI range.  \n",
       "2       1.0  Young patient, generally lower risk but needs ...  "
      ]
     },
     "execution_count": 133,
     "metadata": {},
     "output_type": "execute_result"
    }
   ],
   "source": [
    "data.head(3)"
   ]
  }
 ],
 "metadata": {
  "kernelspec": {
   "display_name": "Python 3",
   "language": "python",
   "name": "python3"
  },
  "language_info": {
   "codemirror_mode": {
    "name": "ipython",
    "version": 3
   },
   "file_extension": ".py",
   "mimetype": "text/x-python",
   "name": "python",
   "nbconvert_exporter": "python",
   "pygments_lexer": "ipython3",
   "version": "3.13.1"
  }
 },
 "nbformat": 4,
 "nbformat_minor": 5
}
