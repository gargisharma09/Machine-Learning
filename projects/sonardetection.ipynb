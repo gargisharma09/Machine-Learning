{
 "cells": [
  {
   "cell_type": "code",
   "execution_count": null,
   "id": "a33b6622",
   "metadata": {},
   "outputs": [],
   "source": [
    "sonar data >>>> datapreprocessing>>>>>> train test split >>>> Logistic regression model  >>>> model evaluation >>>> model deployment"
   ]
  },
  {
   "cell_type": "code",
   "execution_count": null,
   "id": "64ecb4a0",
   "metadata": {},
   "outputs": [],
   "source": [
    "import pandas  as pd\n",
    "import numpy as np\n",
    "import "
   ]
  }
 ],
 "metadata": {
  "language_info": {
   "name": "python"
  }
 },
 "nbformat": 4,
 "nbformat_minor": 5
}
