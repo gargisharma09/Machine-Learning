{
 "cells": [
  {
   "cell_type": "markdown",
   "id": "518df649",
   "metadata": {},
   "source": [
    "###**list creation**"
   ]
  },
  {
   "cell_type": "code",
   "execution_count": 1,
   "id": "cb2e90f8",
   "metadata": {},
   "outputs": [
    {
     "name": "stdout",
     "output_type": "stream",
     "text": [
      "banana\n"
     ]
    }
   ],
   "source": [
    "fruits = ['apple','banana','mango']\n",
    "print(fruits[1])"
   ]
  },
  {
   "cell_type": "markdown",
   "id": "3d2cb691",
   "metadata": {},
   "source": [
    "###**Dictionary**###"
   ]
  },
  {
   "cell_type": "code",
   "execution_count": 3,
   "id": "42eb21d1",
   "metadata": {},
   "outputs": [
    {
     "name": "stdout",
     "output_type": "stream",
     "text": [
      "90\n"
     ]
    }
   ],
   "source": [
    "student = {'name':'Gargi','marks' : 90}\n",
    "print(student['marks'])"
   ]
  },
  {
   "cell_type": "code",
   "execution_count": 4,
   "id": "a52c6c51",
   "metadata": {},
   "outputs": [
    {
     "name": "stdout",
     "output_type": "stream",
     "text": [
      "apple\n",
      "banana\n",
      "mango\n"
     ]
    }
   ],
   "source": [
    "# loop\n",
    "for fruit in fruits:\n",
    "    print(fruit)"
   ]
  },
  {
   "cell_type": "code",
   "execution_count": 5,
   "id": "a5e3e735",
   "metadata": {},
   "outputs": [
    {
     "name": "stdout",
     "output_type": "stream",
     "text": [
      "Hello, Gargi!\n"
     ]
    }
   ],
   "source": [
    "# function\n",
    "def greet(name):\n",
    "    return f\"Hello, {name}!\"\n",
    "\n",
    "print(greet(\"Gargi\"))"
   ]
  },
  {
   "cell_type": "code",
   "execution_count": 6,
   "id": "107ab36e",
   "metadata": {},
   "outputs": [],
   "source": [
    "import pandas as pd\n"
   ]
  },
  {
   "cell_type": "code",
   "execution_count": 8,
   "id": "531aa16c",
   "metadata": {},
   "outputs": [],
   "source": [
    "df = pd.read_csv(\"2016-2022.csv\")"
   ]
  },
  {
   "cell_type": "code",
   "execution_count": 11,
   "id": "f5aa424c",
   "metadata": {},
   "outputs": [
    {
     "data": {
      "text/html": [
       "<div>\n",
       "<style scoped>\n",
       "    .dataframe tbody tr th:only-of-type {\n",
       "        vertical-align: middle;\n",
       "    }\n",
       "\n",
       "    .dataframe tbody tr th {\n",
       "        vertical-align: top;\n",
       "    }\n",
       "\n",
       "    .dataframe thead th {\n",
       "        text-align: right;\n",
       "    }\n",
       "</style>\n",
       "<table border=\"1\" class=\"dataframe\">\n",
       "  <thead>\n",
       "    <tr style=\"text-align: right;\">\n",
       "      <th></th>\n",
       "      <th>data_id</th>\n",
       "      <th>iso</th>\n",
       "      <th>event_id_cnty</th>\n",
       "      <th>event_id_no_cnty</th>\n",
       "      <th>event_date</th>\n",
       "      <th>year</th>\n",
       "      <th>time_precision</th>\n",
       "      <th>event_type</th>\n",
       "      <th>sub_event_type</th>\n",
       "      <th>actor1</th>\n",
       "      <th>...</th>\n",
       "      <th>location</th>\n",
       "      <th>latitude</th>\n",
       "      <th>longitude</th>\n",
       "      <th>geo_precision</th>\n",
       "      <th>source</th>\n",
       "      <th>source_scale</th>\n",
       "      <th>notes</th>\n",
       "      <th>fatalities</th>\n",
       "      <th>timestamp</th>\n",
       "      <th>iso3</th>\n",
       "    </tr>\n",
       "  </thead>\n",
       "  <tbody>\n",
       "    <tr>\n",
       "      <th>107685</th>\n",
       "      <td>5494159</td>\n",
       "      <td>356</td>\n",
       "      <td>IND9</td>\n",
       "      <td>9.0</td>\n",
       "      <td>01 January 2016</td>\n",
       "      <td>2016</td>\n",
       "      <td>1</td>\n",
       "      <td>Protests</td>\n",
       "      <td>Peaceful protest</td>\n",
       "      <td>Protesters (India)</td>\n",
       "      <td>...</td>\n",
       "      <td>Ludhiana</td>\n",
       "      <td>30.9120</td>\n",
       "      <td>75.8537</td>\n",
       "      <td>1</td>\n",
       "      <td>Chandigarh Tribune</td>\n",
       "      <td>Subnational</td>\n",
       "      <td>On 1 Jan, members of the Punjab Government Con...</td>\n",
       "      <td>0</td>\n",
       "      <td>1618556592</td>\n",
       "      <td>IND</td>\n",
       "    </tr>\n",
       "    <tr>\n",
       "      <th>107686</th>\n",
       "      <td>5603486</td>\n",
       "      <td>356</td>\n",
       "      <td>IND51303</td>\n",
       "      <td>51303.0</td>\n",
       "      <td>01 January 2016</td>\n",
       "      <td>2016</td>\n",
       "      <td>1</td>\n",
       "      <td>Battles</td>\n",
       "      <td>Armed clash</td>\n",
       "      <td>NDFB: National Democratic Front of Boroland</td>\n",
       "      <td>...</td>\n",
       "      <td>Kokrajhar</td>\n",
       "      <td>26.4016</td>\n",
       "      <td>90.2665</td>\n",
       "      <td>1</td>\n",
       "      <td>South Asia Terrorism Portal</td>\n",
       "      <td>Other</td>\n",
       "      <td>On January 1, one surrendered NDFB cadre was k...</td>\n",
       "      <td>1</td>\n",
       "      <td>1563366777</td>\n",
       "      <td>IND</td>\n",
       "    </tr>\n",
       "    <tr>\n",
       "      <th>107687</th>\n",
       "      <td>6072644</td>\n",
       "      <td>356</td>\n",
       "      <td>IND49232</td>\n",
       "      <td>49232.0</td>\n",
       "      <td>01 January 2016</td>\n",
       "      <td>2016</td>\n",
       "      <td>1</td>\n",
       "      <td>Protests</td>\n",
       "      <td>Peaceful protest</td>\n",
       "      <td>Protesters (India)</td>\n",
       "      <td>...</td>\n",
       "      <td>Pulwama</td>\n",
       "      <td>33.8741</td>\n",
       "      <td>74.9001</td>\n",
       "      <td>2</td>\n",
       "      <td>Jammu Kashmir Coalition of Civil Society, Srin...</td>\n",
       "      <td>Local partner-Other</td>\n",
       "      <td>On January 1, a protest took place in Pulwama ...</td>\n",
       "      <td>0</td>\n",
       "      <td>1571164565</td>\n",
       "      <td>IND</td>\n",
       "    </tr>\n",
       "    <tr>\n",
       "      <th>107688</th>\n",
       "      <td>6257234</td>\n",
       "      <td>356</td>\n",
       "      <td>IND10</td>\n",
       "      <td>10.0</td>\n",
       "      <td>01 January 2016</td>\n",
       "      <td>2016</td>\n",
       "      <td>1</td>\n",
       "      <td>Battles</td>\n",
       "      <td>Armed clash</td>\n",
       "      <td>CPI (Maoist): Communist Party of India (Maoist)</td>\n",
       "      <td>...</td>\n",
       "      <td>Narayanpur</td>\n",
       "      <td>19.7179</td>\n",
       "      <td>81.2443</td>\n",
       "      <td>2</td>\n",
       "      <td>Chandigarh Tribune</td>\n",
       "      <td>National</td>\n",
       "      <td>On 1 Jan, two Naxals were gunned down and thre...</td>\n",
       "      <td>2</td>\n",
       "      <td>1572403706</td>\n",
       "      <td>IND</td>\n",
       "    </tr>\n",
       "    <tr>\n",
       "      <th>107689</th>\n",
       "      <td>8543376</td>\n",
       "      <td>356</td>\n",
       "      <td>IND49233</td>\n",
       "      <td>49233.0</td>\n",
       "      <td>01 January 2016</td>\n",
       "      <td>2016</td>\n",
       "      <td>1</td>\n",
       "      <td>Protests</td>\n",
       "      <td>Peaceful protest</td>\n",
       "      <td>Protesters (India)</td>\n",
       "      <td>...</td>\n",
       "      <td>Srinagar</td>\n",
       "      <td>34.0857</td>\n",
       "      <td>74.8056</td>\n",
       "      <td>1</td>\n",
       "      <td>Jammu Kashmir Coalition of Civil Society, Srin...</td>\n",
       "      <td>Local partner-Other</td>\n",
       "      <td>On January 1, a protest took place in Srinagar...</td>\n",
       "      <td>0</td>\n",
       "      <td>1631660908</td>\n",
       "      <td>IND</td>\n",
       "    </tr>\n",
       "  </tbody>\n",
       "</table>\n",
       "<p>5 rows × 31 columns</p>\n",
       "</div>"
      ],
      "text/plain": [
       "        data_id  iso event_id_cnty  event_id_no_cnty       event_date  year  \\\n",
       "107685  5494159  356          IND9               9.0  01 January 2016  2016   \n",
       "107686  5603486  356      IND51303           51303.0  01 January 2016  2016   \n",
       "107687  6072644  356      IND49232           49232.0  01 January 2016  2016   \n",
       "107688  6257234  356         IND10              10.0  01 January 2016  2016   \n",
       "107689  8543376  356      IND49233           49233.0  01 January 2016  2016   \n",
       "\n",
       "        time_precision event_type    sub_event_type  \\\n",
       "107685               1   Protests  Peaceful protest   \n",
       "107686               1    Battles       Armed clash   \n",
       "107687               1   Protests  Peaceful protest   \n",
       "107688               1    Battles       Armed clash   \n",
       "107689               1   Protests  Peaceful protest   \n",
       "\n",
       "                                                 actor1  ...    location  \\\n",
       "107685                               Protesters (India)  ...    Ludhiana   \n",
       "107686      NDFB: National Democratic Front of Boroland  ...   Kokrajhar   \n",
       "107687                               Protesters (India)  ...     Pulwama   \n",
       "107688  CPI (Maoist): Communist Party of India (Maoist)  ...  Narayanpur   \n",
       "107689                               Protesters (India)  ...    Srinagar   \n",
       "\n",
       "        latitude longitude geo_precision  \\\n",
       "107685   30.9120   75.8537             1   \n",
       "107686   26.4016   90.2665             1   \n",
       "107687   33.8741   74.9001             2   \n",
       "107688   19.7179   81.2443             2   \n",
       "107689   34.0857   74.8056             1   \n",
       "\n",
       "                                                   source  \\\n",
       "107685                                 Chandigarh Tribune   \n",
       "107686                        South Asia Terrorism Portal   \n",
       "107687  Jammu Kashmir Coalition of Civil Society, Srin...   \n",
       "107688                                 Chandigarh Tribune   \n",
       "107689  Jammu Kashmir Coalition of Civil Society, Srin...   \n",
       "\n",
       "               source_scale  \\\n",
       "107685          Subnational   \n",
       "107686                Other   \n",
       "107687  Local partner-Other   \n",
       "107688             National   \n",
       "107689  Local partner-Other   \n",
       "\n",
       "                                                    notes fatalities  \\\n",
       "107685  On 1 Jan, members of the Punjab Government Con...          0   \n",
       "107686  On January 1, one surrendered NDFB cadre was k...          1   \n",
       "107687  On January 1, a protest took place in Pulwama ...          0   \n",
       "107688  On 1 Jan, two Naxals were gunned down and thre...          2   \n",
       "107689  On January 1, a protest took place in Srinagar...          0   \n",
       "\n",
       "         timestamp iso3  \n",
       "107685  1618556592  IND  \n",
       "107686  1563366777  IND  \n",
       "107687  1571164565  IND  \n",
       "107688  1572403706  IND  \n",
       "107689  1631660908  IND  \n",
       "\n",
       "[5 rows x 31 columns]"
      ]
     },
     "execution_count": 11,
     "metadata": {},
     "output_type": "execute_result"
    }
   ],
   "source": [
    "df.head()\n",
    "df.tail()"
   ]
  },
  {
   "cell_type": "code",
   "execution_count": 14,
   "id": "a7732c18",
   "metadata": {},
   "outputs": [
    {
     "name": "stdout",
     "output_type": "stream",
     "text": [
      "<class 'pandas.core.frame.DataFrame'>\n",
      "RangeIndex: 107690 entries, 0 to 107689\n",
      "Data columns (total 31 columns):\n",
      " #   Column            Non-Null Count   Dtype  \n",
      "---  ------            --------------   -----  \n",
      " 0   data_id           107690 non-null  int64  \n",
      " 1   iso               107690 non-null  int64  \n",
      " 2   event_id_cnty     107690 non-null  object \n",
      " 3   event_id_no_cnty  107690 non-null  float64\n",
      " 4   event_date        107690 non-null  object \n",
      " 5   year              107690 non-null  int64  \n",
      " 6   time_precision    107690 non-null  int64  \n",
      " 7   event_type        107690 non-null  object \n",
      " 8   sub_event_type    107690 non-null  object \n",
      " 9   actor1            107690 non-null  object \n",
      " 10  assoc_actor_1     76917 non-null   object \n",
      " 11  inter1            107690 non-null  int64  \n",
      " 12  actor2            31375 non-null   object \n",
      " 13  assoc_actor_2     11511 non-null   object \n",
      " 14  inter2            107690 non-null  int64  \n",
      " 15  interaction       107690 non-null  int64  \n",
      " 16  region            107690 non-null  object \n",
      " 17  country           107690 non-null  object \n",
      " 18  admin1            107690 non-null  object \n",
      " 19  admin2            107672 non-null  object \n",
      " 20  admin3            105451 non-null  object \n",
      " 21  location          107690 non-null  object \n",
      " 22  latitude          107690 non-null  float64\n",
      " 23  longitude         107690 non-null  float64\n",
      " 24  geo_precision     107690 non-null  int64  \n",
      " 25  source            107690 non-null  object \n",
      " 26  source_scale      107690 non-null  object \n",
      " 27  notes             107690 non-null  object \n",
      " 28  fatalities        107690 non-null  int64  \n",
      " 29  timestamp         107690 non-null  int64  \n",
      " 30  iso3              107690 non-null  object \n",
      "dtypes: float64(3), int64(10), object(18)\n",
      "memory usage: 25.5+ MB\n"
     ]
    },
    {
     "data": {
      "text/plain": [
       "data_id               int64\n",
       "iso                   int64\n",
       "event_id_cnty        object\n",
       "event_id_no_cnty    float64\n",
       "event_date           object\n",
       "year                  int64\n",
       "time_precision        int64\n",
       "event_type           object\n",
       "sub_event_type       object\n",
       "actor1               object\n",
       "assoc_actor_1        object\n",
       "inter1                int64\n",
       "actor2               object\n",
       "assoc_actor_2        object\n",
       "inter2                int64\n",
       "interaction           int64\n",
       "region               object\n",
       "country              object\n",
       "admin1               object\n",
       "admin2               object\n",
       "admin3               object\n",
       "location             object\n",
       "latitude            float64\n",
       "longitude           float64\n",
       "geo_precision         int64\n",
       "source               object\n",
       "source_scale         object\n",
       "notes                object\n",
       "fatalities            int64\n",
       "timestamp             int64\n",
       "iso3                 object\n",
       "dtype: object"
      ]
     },
     "execution_count": 14,
     "metadata": {},
     "output_type": "execute_result"
    }
   ],
   "source": [
    "df.info()\n",
    "df.dtypes\n"
   ]
  },
  {
   "cell_type": "code",
   "execution_count": 16,
   "id": "28572277",
   "metadata": {},
   "outputs": [
    {
     "name": "stdout",
     "output_type": "stream",
     "text": [
      "0            Riots\n",
      "1         Protests\n",
      "2         Protests\n",
      "3         Protests\n",
      "4            Riots\n",
      "            ...   \n",
      "107685    Protests\n",
      "107686     Battles\n",
      "107687    Protests\n",
      "107688     Battles\n",
      "107689    Protests\n",
      "Name: event_type, Length: 107690, dtype: object\n"
     ]
    }
   ],
   "source": [
    "print(df['event_type'])"
   ]
  },
  {
   "cell_type": "code",
   "execution_count": 17,
   "id": "ffbcd30b",
   "metadata": {},
   "outputs": [
    {
     "name": "stdout",
     "output_type": "stream",
     "text": [
      "       event_type  fatalities\n",
      "0           Riots           0\n",
      "1        Protests           0\n",
      "2        Protests           0\n",
      "3        Protests           0\n",
      "4           Riots           1\n",
      "...           ...         ...\n",
      "107685   Protests           0\n",
      "107686    Battles           1\n",
      "107687   Protests           0\n",
      "107688    Battles           2\n",
      "107689   Protests           0\n",
      "\n",
      "[107690 rows x 2 columns]\n"
     ]
    }
   ],
   "source": [
    "print(df[['event_type','fatalities']])"
   ]
  },
  {
   "cell_type": "code",
   "execution_count": null,
   "id": "a853f123",
   "metadata": {},
   "outputs": [],
   "source": [
    "# convert date to datetime \n",
    "df['event_date'] = pd.to_datetime(df['event_date'])"
   ]
  },
  {
   "cell_type": "code",
   "execution_count": null,
   "id": "f2818c8c",
   "metadata": {},
   "outputs": [
    {
     "name": "stdout",
     "output_type": "stream",
     "text": [
      "36\n"
     ]
    }
   ],
   "source": [
    "#how many unique states are there using \n",
    "print(df['admin1'].nunique())"
   ]
  },
  {
   "cell_type": "code",
   "execution_count": 24,
   "id": "d3f73b0d",
   "metadata": {},
   "outputs": [
    {
     "name": "stdout",
     "output_type": "stream",
     "text": [
      "  event_type     state  fatalities        date event_date\n",
      "0   Protests     Delhi           0  2022-01-10 2022-01-10\n",
      "1      Riots        UP           3  2022-02-15 2022-02-15\n",
      "2   Protests  Karnatka           0  2022-03-20 2022-03-20\n",
      "3      Riots        MP           2  2022-04-25 2022-04-25\n",
      "4    Battles     Assam           5  2022-05-30 2022-05-30\n"
     ]
    }
   ],
   "source": [
    "data = {\n",
    "    'event_type' : ['Protests', 'Riots','Protests','Riots','Battles'],\n",
    "    'state' : ['Delhi','UP','Karnatka','MP','Assam'],\n",
    "    'fatalities' : [0,3,0,2,5],\n",
    "    'date' : ['2022-01-10','2022-02-15','2022-03-20','2022-04-25','2022-05-30']\n",
    "}\n",
    "\n",
    "df = pd.DataFrame(data)\n",
    "df['event_date'] = pd.to_datetime(df['date'])\n",
    "print(df)"
   ]
  },
  {
   "cell_type": "code",
   "execution_count": 25,
   "id": "08260cc7",
   "metadata": {},
   "outputs": [
    {
     "data": {
      "text/plain": [
       "5"
      ]
     },
     "execution_count": 25,
     "metadata": {},
     "output_type": "execute_result"
    }
   ],
   "source": [
    "#check the num of total \n",
    "df.shape[0]"
   ]
  },
  {
   "cell_type": "code",
   "execution_count": 26,
   "id": "41cc2744",
   "metadata": {},
   "outputs": [
    {
     "data": {
      "text/plain": [
       "3"
      ]
     },
     "execution_count": 26,
     "metadata": {},
     "output_type": "execute_result"
    }
   ],
   "source": [
    "# unique event types \n",
    "df['event_type'].nunique()"
   ]
  },
  {
   "cell_type": "code",
   "execution_count": 27,
   "id": "8f4d50cb",
   "metadata": {},
   "outputs": [
    {
     "data": {
      "text/plain": [
       "np.float64(2.0)"
      ]
     },
     "execution_count": 27,
     "metadata": {},
     "output_type": "execute_result"
    }
   ],
   "source": [
    "df['fatalities'].mean()"
   ]
  },
  {
   "cell_type": "code",
   "execution_count": 28,
   "id": "a7f57e39",
   "metadata": {},
   "outputs": [
    {
     "data": {
      "text/plain": [
       "event_type                Battles\n",
       "state                       Assam\n",
       "fatalities                      5\n",
       "date                   2022-05-30\n",
       "event_date    2022-05-30 00:00:00\n",
       "Name: 4, dtype: object"
      ]
     },
     "execution_count": 28,
     "metadata": {},
     "output_type": "execute_result"
    }
   ],
   "source": [
    "df.loc[df['fatalities'].idxmax()]"
   ]
  },
  {
   "cell_type": "code",
   "execution_count": 29,
   "id": "6ec6b4e5",
   "metadata": {},
   "outputs": [],
   "source": [
    "import numpy as np\n"
   ]
  },
  {
   "cell_type": "code",
   "execution_count": 30,
   "id": "03c20c61",
   "metadata": {},
   "outputs": [
    {
     "name": "stdout",
     "output_type": "stream",
     "text": [
      "<class 'list'>\n",
      "<class 'numpy.ndarray'>\n"
     ]
    }
   ],
   "source": [
    "list1 = [1,2,3,4]\n",
    "array1 = np.array([1,2,3,4])\n",
    "\n",
    "print(type(list1))\n",
    "print(type(array1))"
   ]
  },
  {
   "cell_type": "code",
   "execution_count": 31,
   "id": "7cca8641",
   "metadata": {},
   "outputs": [
    {
     "name": "stdout",
     "output_type": "stream",
     "text": [
      "(2, 3)\n",
      "2\n",
      "6\n",
      "int64\n"
     ]
    }
   ],
   "source": [
    "arr = np.array([[1,2,3], [4,5,6]])\n",
    "\n",
    "print(arr.shape)\n",
    "print(arr.ndim)\n",
    "print(arr.size)\n",
    "print(arr.dtype)"
   ]
  },
  {
   "cell_type": "code",
   "execution_count": 33,
   "id": "1446788c",
   "metadata": {},
   "outputs": [
    {
     "name": "stdout",
     "output_type": "stream",
     "text": [
      "20\n",
      "[20 50]\n",
      "[40 50 60]\n"
     ]
    }
   ],
   "source": [
    "arr = np.array([[10, 20, 30], [40, 50, 60]])\n",
    "\n",
    "print(arr[0, 1])    \n",
    "print(arr[:, 1])    \n",
    "print(arr[1, :])    \n"
   ]
  },
  {
   "cell_type": "code",
   "execution_count": null,
   "id": "d08bb81a",
   "metadata": {},
   "outputs": [],
   "source": []
  }
 ],
 "metadata": {
  "kernelspec": {
   "display_name": "Python 3",
   "language": "python",
   "name": "python3"
  },
  "language_info": {
   "codemirror_mode": {
    "name": "ipython",
    "version": 3
   },
   "file_extension": ".py",
   "mimetype": "text/x-python",
   "name": "python",
   "nbconvert_exporter": "python",
   "pygments_lexer": "ipython3",
   "version": "3.13.1"
  }
 },
 "nbformat": 4,
 "nbformat_minor": 5
}
